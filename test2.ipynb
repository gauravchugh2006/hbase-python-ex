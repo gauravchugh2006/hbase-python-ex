{
 "cells": [
  {
   "cell_type": "markdown",
   "id": "intro",
   "metadata": {},
   "source": [
    "# 🚔 HBase Crime Queries Notebook\n",
    "\n",
    "## 📌 Objectives\n",
    "- Run queries in HBase shell to retrieve crime data.\n",
    "- Filter by location, crime type, date, and victim characteristics.\n",
    "- Count records and analyze region servers.\n",
    "---"
   ]
  },
  {
   "cell_type": "markdown",
   "id": "hbase-shell-setup",
   "metadata": {},
   "source": [
    "## 1️⃣ Ensure HBase Shell is Running\n",
    "**Start HBase shell inside your container before proceeding:**\n",
    "```\n",
    "docker exec -it hbase hbase shell\n",
    "```"
   ]
  },
  {
   "cell_type": "markdown",
   "id": "count-rows",
   "metadata": {},
   "source": [
    "## 2️⃣ Count Rows in `practice:crimes` Table"
   ]
  },
  {
   "cell_type": "code",
   "id": "count-crimes",
   "metadata": {},
   "execution_count": null,
   "outputs": [],
   "source": [
    "!echo \"count 'practice:crimes'\" | hbase shell"
   ]
  },
  {
   "cell_type": "markdown",
   "id": "hollywood-2020",
   "metadata": {},
   "source": [
    "## 3️⃣ Get First 10 Crimes in Hollywood (2020)"
   ]
  },
  {
   "cell_type": "code",
   "id": "query-hollywood",
   "metadata": {},
   "execution_count": null,
   "outputs": [],
   "source": [
    "!echo \"scan 'practice:crimes', {LIMIT => 10, FILTER => \"SingleColumnValueFilter('crime_info', 'area', =, 'binary:Hollywood') AND SingleColumnValueFilter('crime_info', 'date_occurred', >=, 'binary:20200101') AND SingleColumnValueFilter('crime_info', 'date_occurred', <=, 'binary:20201231')\"}\" | hbase shell"
   ]
  },
  {
   "cell_type": "markdown",
   "id": "shoplifting-vandalism-feb2020",
   "metadata": {},
   "source": [
    "## 4️⃣ Get First 10 SHOPLIFTING & VANDALISM Crimes (Feb 2020)"
   ]
  },
  {
   "cell_type": "code",
   "id": "query-shoplifting-vandalism",
   "metadata": {},
   "execution_count": null,
   "outputs": [],
   "source": [
    "!echo \"scan 'practice:crimes', {LIMIT => 10, FILTER => \"SingleColumnValueFilter('crime_info', 'crm_cd_desc', SubstringComparator('SHOPLIFTING')) OR SingleColumnValueFilter('crime_info', 'crm_cd_desc', SubstringComparator('VANDALISM') AND SingleColumnValueFilter('crime_info', 'date_occurred', >=, 'binary:20200201') AND SingleColumnValueFilter('crime_info', 'date_occurred', <=, 'binary:20200229')\"}\" | hbase shell"
   ]
  },
  {
   "cell_type": "markdown",
   "id": "intimate-partner-assault-apr2020",
   "metadata": {},
   "source": [
    "## 5️⃣ Get First 10 INTIMATE PARTNER - SIMPLE ASSAULT Crimes (April 2020)"
   ]
  },
  {
   "cell_type": "code",
   "id": "query-intimate-assault",
   "metadata": {},
   "execution_count": null,
   "outputs": [],
   "source": [
    "!echo \"scan 'practice:crimes', {LIMIT => 10, FILTER => \"SingleColumnValueFilter('crime_info', 'crm_cd_desc', =, 'binary:INTIMATE PARTNER - SIMPLE ASSAULT') AND SingleColumnValueFilter('crime_info', 'date_occurred', >=, 'binary:20200401') AND SingleColumnValueFilter('crime_info', 'date_occurred', <=, 'binary:20200430')\"}\" | hbase shell"
   ]
  },
  {
   "cell_type": "markdown",
   "id": "crimes-reported-03122020",
   "metadata": {},
   "source": [
    "## 6️⃣ Crimes Reported on 03/12/2020"
   ]
  },
  {
   "cell_type": "code",
   "id": "query-reported-03122020",
   "metadata": {},
   "execution_count": null,
   "outputs": [],
   "source": [
    "!echo \"scan 'practice:crimes', {FILTER => \"SingleColumnValueFilter('crime_info', 'date_reported', =, 'binary:20200312')\"}\" | hbase shell"
   ]
  },
  {
   "cell_type": "markdown",
   "id": "wilshire-crimes-female-victims",
   "metadata": {},
   "source": [
    "## 7️⃣ Crimes in Wilshire (Feb 1-2, 2020) - Female Victims"
   ]
  },
  {
   "cell_type": "code",
   "id": "query-wilshire-females",
   "metadata": {},
   "execution_count": null,
   "outputs": [],
   "source": [
    "!echo \"scan 'practice:crimes', {FILTER => \"SingleColumnValueFilter('crime_info', 'date_occurred', >=, 'binary:20200201') AND SingleColumnValueFilter('crime_info', 'date_occurred', <=, 'binary:20200202') AND SingleColumnValueFilter('crime_info', 'area', =, 'binary:Wilshire') AND SingleColumnValueFilter('crime_info', 'vict_sex', =, 'binary:F')\"}\" | hbase shell"
   ]
  },
  {
   "cell_type": "markdown",
   "id": "region-servers",
   "metadata": {},
   "source": [
    "## 8️⃣ Check Number of Regions & Region Servers"
   ]
  },
  {
   "cell_type": "code",
   "id": "check-regions",
   "metadata": {},
   "execution_count": null,
   "outputs": [],
   "source": [
    "!echo \"status 'detailed'\" | hbase shell"
   ]
  }
 ],
 "metadata": {
  "kernelspec": {
   "display_name": "Python 3",
   "language": "python",
   "name": "python3"
  },
  "language_info": {
   "name": "python",
   "version": "3.x"
  }
 },
 "nbformat": 4,
 "nbformat_minor": 5
}