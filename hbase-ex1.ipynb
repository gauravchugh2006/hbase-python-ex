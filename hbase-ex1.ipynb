{
 "cells": [
  {
   "cell_type": "code",
   "execution_count": 1,
   "id": "5ebf6fd2",
   "metadata": {},
   "outputs": [
    {
     "name": "stdout",
     "output_type": "stream",
     "text": [
      "Defaulting to user installation because normal site-packages is not writeable\n",
      "Collecting thriftpy2\n",
      "  Downloading thriftpy2-0.5.2.tar.gz (782 kB)\n",
      "     ---------------------------------------- 0.0/782.3 kB ? eta -:--:--\n",
      "     ---------------------------------------- 0.0/782.3 kB ? eta -:--:--\n",
      "     ---------------------------------------- 0.0/782.3 kB ? eta -:--:--\n",
      "     ---------------------------------------- 0.0/782.3 kB ? eta -:--:--\n",
      "     ---------------------------------------- 0.0/782.3 kB ? eta -:--:--\n",
      "     ---------------------------------------- 0.0/782.3 kB ? eta -:--:--\n",
      "     ---------------------------------------- 0.0/782.3 kB ? eta -:--:--\n",
      "     ---------------------------------------- 0.0/782.3 kB ? eta -:--:--\n",
      "     ---------------------------------------- 0.0/782.3 kB ? eta -:--:--\n",
      "     ---------------------------------------- 0.0/782.3 kB ? eta -:--:--\n",
      "     ------------- -------------------------- 262.1/782.3 kB ? eta -:--:--\n",
      "     ------------- -------------------------- 262.1/782.3 kB ? eta -:--:--\n",
      "     ------------- -------------------------- 262.1/782.3 kB ? eta -:--:--\n",
      "     ------------- -------------------------- 262.1/782.3 kB ? eta -:--:--\n",
      "     ------------- -------------------------- 262.1/782.3 kB ? eta -:--:--\n",
      "     ------------- -------------------------- 262.1/782.3 kB ? eta -:--:--\n",
      "     ------------- -------------------------- 262.1/782.3 kB ? eta -:--:--\n",
      "     ------------- -------------------------- 262.1/782.3 kB ? eta -:--:--\n",
      "     ------------- -------------------------- 262.1/782.3 kB ? eta -:--:--\n",
      "     ------------------------ ----------- 524.3/782.3 kB 139.8 kB/s eta 0:00:02\n",
      "     ------------------------ ----------- 524.3/782.3 kB 139.8 kB/s eta 0:00:02\n",
      "     ------------------------ ----------- 524.3/782.3 kB 139.8 kB/s eta 0:00:02\n",
      "     ------------------------ ----------- 524.3/782.3 kB 139.8 kB/s eta 0:00:02\n",
      "     ------------------------ ----------- 524.3/782.3 kB 139.8 kB/s eta 0:00:02\n",
      "     ------------------------ ----------- 524.3/782.3 kB 139.8 kB/s eta 0:00:02\n",
      "     ------------------------ ----------- 524.3/782.3 kB 139.8 kB/s eta 0:00:02\n",
      "     ------------------------ ----------- 524.3/782.3 kB 139.8 kB/s eta 0:00:02\n",
      "     ------------------------ ----------- 524.3/782.3 kB 139.8 kB/s eta 0:00:02\n",
      "     ------------------------------------ 782.3/782.3 kB 137.5 kB/s eta 0:00:00\n",
      "  Installing build dependencies: started\n",
      "  Installing build dependencies: finished with status 'done'\n",
      "  Getting requirements to build wheel: started\n",
      "  Getting requirements to build wheel: finished with status 'done'\n",
      "  Preparing metadata (pyproject.toml): started\n",
      "  Preparing metadata (pyproject.toml): finished with status 'done'\n",
      "Collecting Cython>=3.0.10 (from thriftpy2)\n",
      "  Downloading cython-3.1.1-cp312-cp312-win_amd64.whl.metadata (3.6 kB)\n",
      "Collecting ply<4.0,>=3.4 (from thriftpy2)\n",
      "  Downloading ply-3.11-py2.py3-none-any.whl.metadata (844 bytes)\n",
      "Requirement already satisfied: six~=1.15 in c:\\users\\gaurav chugh\\appdata\\roaming\\python\\python312\\site-packages (from thriftpy2) (1.17.0)\n",
      "Downloading ply-3.11-py2.py3-none-any.whl (49 kB)\n",
      "Downloading cython-3.1.1-cp312-cp312-win_amd64.whl (2.7 MB)\n",
      "   ---------------------------------------- 0.0/2.7 MB ? eta -:--:--\n",
      "   ---------------------------------------- 0.0/2.7 MB ? eta -:--:--\n",
      "   ---------------------------------------- 0.0/2.7 MB ? eta -:--:--\n",
      "   ---------------------------------------- 0.0/2.7 MB ? eta -:--:--\n",
      "   ---------------------------------------- 0.0/2.7 MB ? eta -:--:--\n",
      "   ---------------------------------------- 0.0/2.7 MB ? eta -:--:--\n",
      "   ---------------------------------------- 0.0/2.7 MB ? eta -:--:--\n",
      "   ---------------------------------------- 0.0/2.7 MB ? eta -:--:--\n",
      "   ---------------------------------------- 0.0/2.7 MB ? eta -:--:--\n",
      "   ---------------------------------------- 0.0/2.7 MB ? eta -:--:--\n",
      "   --- ------------------------------------ 0.3/2.7 MB ? eta -:--:--\n",
      "   --- ------------------------------------ 0.3/2.7 MB ? eta -:--:--\n",
      "   --- ------------------------------------ 0.3/2.7 MB ? eta -:--:--\n",
      "   --- ------------------------------------ 0.3/2.7 MB ? eta -:--:--\n",
      "   --- ------------------------------------ 0.3/2.7 MB ? eta -:--:--\n",
      "   --- ------------------------------------ 0.3/2.7 MB ? eta -:--:--\n",
      "   --- ------------------------------------ 0.3/2.7 MB ? eta -:--:--\n",
      "   --- ------------------------------------ 0.3/2.7 MB ? eta -:--:--\n",
      "   --- ------------------------------------ 0.3/2.7 MB ? eta -:--:--\n",
      "   --- ------------------------------------ 0.3/2.7 MB ? eta -:--:--\n",
      "   ------- -------------------------------- 0.5/2.7 MB 125.2 kB/s eta 0:00:18\n",
      "   ------- -------------------------------- 0.5/2.7 MB 125.2 kB/s eta 0:00:18\n",
      "   ------- -------------------------------- 0.5/2.7 MB 125.2 kB/s eta 0:00:18\n",
      "   ----------- ---------------------------- 0.8/2.7 MB 189.5 kB/s eta 0:00:10\n",
      "   ----------- ---------------------------- 0.8/2.7 MB 189.5 kB/s eta 0:00:10\n",
      "   ----------- ---------------------------- 0.8/2.7 MB 189.5 kB/s eta 0:00:10\n",
      "   ----------- ---------------------------- 0.8/2.7 MB 189.5 kB/s eta 0:00:10\n",
      "   ----------- ---------------------------- 0.8/2.7 MB 189.5 kB/s eta 0:00:10\n",
      "   ----------- ---------------------------- 0.8/2.7 MB 189.5 kB/s eta 0:00:10\n",
      "   ----------- ---------------------------- 0.8/2.7 MB 189.5 kB/s eta 0:00:10\n",
      "   ----------- ---------------------------- 0.8/2.7 MB 189.5 kB/s eta 0:00:10\n",
      "   ----------- ---------------------------- 0.8/2.7 MB 189.5 kB/s eta 0:00:10\n",
      "   ----------- ---------------------------- 0.8/2.7 MB 189.5 kB/s eta 0:00:10\n",
      "   ----------- ---------------------------- 0.8/2.7 MB 189.5 kB/s eta 0:00:10\n",
      "   ----------- ---------------------------- 0.8/2.7 MB 189.5 kB/s eta 0:00:10\n",
      "   --------------- ------------------------ 1.0/2.7 MB 153.0 kB/s eta 0:00:11\n",
      "   --------------- ------------------------ 1.0/2.7 MB 153.0 kB/s eta 0:00:11\n",
      "   --------------- ------------------------ 1.0/2.7 MB 153.0 kB/s eta 0:00:11\n",
      "   --------------- ------------------------ 1.0/2.7 MB 153.0 kB/s eta 0:00:11\n",
      "   --------------- ------------------------ 1.0/2.7 MB 153.0 kB/s eta 0:00:11\n",
      "   --------------- ------------------------ 1.0/2.7 MB 153.0 kB/s eta 0:00:11\n",
      "   --------------- ------------------------ 1.0/2.7 MB 153.0 kB/s eta 0:00:11\n",
      "   --------------- ------------------------ 1.0/2.7 MB 153.0 kB/s eta 0:00:11\n",
      "   --------------- ------------------------ 1.0/2.7 MB 153.0 kB/s eta 0:00:11\n",
      "   ------------------- -------------------- 1.3/2.7 MB 148.8 kB/s eta 0:00:10\n",
      "   ------------------- -------------------- 1.3/2.7 MB 148.8 kB/s eta 0:00:10\n",
      "   ------------------- -------------------- 1.3/2.7 MB 148.8 kB/s eta 0:00:10\n",
      "   ----------------------- ---------------- 1.6/2.7 MB 167.8 kB/s eta 0:00:07\n",
      "   ----------------------- ---------------- 1.6/2.7 MB 167.8 kB/s eta 0:00:07\n",
      "   ----------------------- ---------------- 1.6/2.7 MB 167.8 kB/s eta 0:00:07\n",
      "   --------------------------- ------------ 1.8/2.7 MB 189.2 kB/s eta 0:00:05\n",
      "   --------------------------- ------------ 1.8/2.7 MB 189.2 kB/s eta 0:00:05\n",
      "   ------------------------------- -------- 2.1/2.7 MB 210.5 kB/s eta 0:00:03\n",
      "   ----------------------------------- ---- 2.4/2.7 MB 231.0 kB/s eta 0:00:02\n",
      "   ----------------------------------- ---- 2.4/2.7 MB 231.0 kB/s eta 0:00:02\n",
      "   ---------------------------------------- 2.7/2.7 MB 253.9 kB/s eta 0:00:00\n",
      "Building wheels for collected packages: thriftpy2\n",
      "  Building wheel for thriftpy2 (pyproject.toml): started\n",
      "  Building wheel for thriftpy2 (pyproject.toml): finished with status 'done'\n",
      "  Created wheel for thriftpy2: filename=thriftpy2-0.5.2-cp312-cp312-win_amd64.whl size=814727 sha256=ef52a7418911fdd49545f55a8595693cbb8b23b37b8186346f834b0c57baae07\n",
      "  Stored in directory: C:\\Users\\Gaurav Chugh\\AppData\\Local\\Temp\\pip-ephem-wheel-cache-lwovoz7p\\wheels\\c9\\ce\\d5\\93b65735501e7c6f4c8900c33a98cf9f2f1718490df69ad68c\n",
      "Successfully built thriftpy2\n",
      "Installing collected packages: ply, Cython, thriftpy2\n",
      "\n",
      "   ---------------------------------------- 0/3 [ply]\n",
      "   ------------- -------------------------- 1/3 [Cython]\n",
      "   ------------- -------------------------- 1/3 [Cython]\n",
      "   ------------- -------------------------- 1/3 [Cython]\n",
      "   ------------- -------------------------- 1/3 [Cython]\n",
      "   ------------- -------------------------- 1/3 [Cython]\n",
      "   ------------- -------------------------- 1/3 [Cython]\n",
      "   ------------- -------------------------- 1/3 [Cython]\n",
      "   ------------- -------------------------- 1/3 [Cython]\n",
      "   ------------- -------------------------- 1/3 [Cython]\n",
      "   ------------- -------------------------- 1/3 [Cython]\n",
      "   ------------- -------------------------- 1/3 [Cython]\n",
      "   ------------- -------------------------- 1/3 [Cython]\n",
      "   ------------- -------------------------- 1/3 [Cython]\n",
      "   ------------- -------------------------- 1/3 [Cython]\n",
      "   ------------- -------------------------- 1/3 [Cython]\n",
      "   ------------- -------------------------- 1/3 [Cython]\n",
      "   ------------- -------------------------- 1/3 [Cython]\n",
      "   ------------- -------------------------- 1/3 [Cython]\n",
      "   ------------- -------------------------- 1/3 [Cython]\n",
      "   ------------- -------------------------- 1/3 [Cython]\n",
      "   -------------------------- ------------- 2/3 [thriftpy2]\n",
      "   -------------------------- ------------- 2/3 [thriftpy2]\n",
      "   -------------------------- ------------- 2/3 [thriftpy2]\n",
      "   -------------------------- ------------- 2/3 [thriftpy2]\n",
      "   ---------------------------------------- 3/3 [thriftpy2]\n",
      "\n",
      "Successfully installed Cython-3.1.1 ply-3.11 thriftpy2-0.5.2\n",
      "Note: you may need to restart the kernel to use updated packages.\n"
     ]
    },
    {
     "name": "stderr",
     "output_type": "stream",
     "text": [
      "  DEPRECATION: Building 'happybase' using the legacy setup.py bdist_wheel mechanism, which will be removed in a future version. pip 25.3 will enforce this behaviour change. A possible replacement is to use the standardized build interface by setting the `--use-pep517` option, (possibly combined with `--no-build-isolation`), or adding a `pyproject.toml` file to the source tree of 'happybase'. Discussion can be found at https://github.com/pypa/pip/issues/6334\n"
     ]
    },
    {
     "name": "stdout",
     "output_type": "stream",
     "text": [
      "Defaulting to user installation because normal site-packages is not writeable\n",
      "Collecting happybase\n",
      "  Downloading happybase-1.2.0.tar.gz (40 kB)\n",
      "  Preparing metadata (setup.py): started\n",
      "  Preparing metadata (setup.py): finished with status 'done'\n",
      "Requirement already satisfied: six in c:\\users\\gaurav chugh\\appdata\\roaming\\python\\python312\\site-packages (from happybase) (1.17.0)\n",
      "Requirement already satisfied: thriftpy2>=0.4 in c:\\users\\gaurav chugh\\appdata\\roaming\\python\\python312\\site-packages (from happybase) (0.5.2)\n",
      "Requirement already satisfied: Cython>=3.0.10 in c:\\users\\gaurav chugh\\appdata\\roaming\\python\\python312\\site-packages (from thriftpy2>=0.4->happybase) (3.1.1)\n",
      "Requirement already satisfied: ply<4.0,>=3.4 in c:\\users\\gaurav chugh\\appdata\\roaming\\python\\python312\\site-packages (from thriftpy2>=0.4->happybase) (3.11)\n",
      "Building wheels for collected packages: happybase\n",
      "  Building wheel for happybase (setup.py): started\n",
      "  Building wheel for happybase (setup.py): finished with status 'done'\n",
      "  Created wheel for happybase: filename=happybase-1.2.0-py2.py3-none-any.whl size=26696 sha256=b945c5079115168b49b19eb83666ae072658febabf2eab87f0fbf41c05628e6d\n",
      "  Stored in directory: C:\\Users\\Gaurav Chugh\\AppData\\Local\\Temp\\pip-ephem-wheel-cache-etvxva7p\\wheels\\03\\58\\dc\\14ae040cb0d04a76a1b000090e4468a59521df02457a0fd803\n",
      "Successfully built happybase\n",
      "Installing collected packages: happybase\n",
      "Successfully installed happybase-1.2.0\n",
      "Note: you may need to restart the kernel to use updated packages.\n",
      "b'1001' {b'info:age': b'21', b'info:name': b'Alice'}\n",
      "b'1002' {b'info:age': b'23', b'info:name': b'Bob'}\n",
      "b'1003' {b'info:age': b'36', b'info:name': b'Gaurav'}\n"
     ]
    }
   ],
   "source": [
    "# %pip install thrift --no-cache-dir\n",
    "%pip install thriftpy2 --no-cache-dir\n",
    "%pip install happybase --no-cache-dir\n",
    "\n"
   ]
  },
  {
   "cell_type": "code",
   "execution_count": 2,
   "id": "05f3bfdc",
   "metadata": {},
   "outputs": [
    {
     "name": "stdout",
     "output_type": "stream",
     "text": [
      "b'1001' {b'info:age': b'21', b'info:name': b'Alice'}\n",
      "b'1002' {b'info:age': b'23', b'info:name': b'Bob'}\n",
      "b'1003' {b'info:age': b'36', b'info:name': b'Gaurav'}\n"
     ]
    }
   ],
   "source": [
    "import happybase\n",
    "\n",
    "connection = happybase.Connection('localhost')\n",
    "table = connection.table('practice:students')\n",
    "\n",
    "for key, data in table.scan():\n",
    "    print(key, data)"
   ]
  },
  {
   "cell_type": "code",
   "execution_count": 3,
   "id": "4b4751c5",
   "metadata": {},
   "outputs": [],
   "source": [
    "table.put(b'1003', {\n",
    "    b'info:name': b'Charlie',\n",
    "    b'info:age': b'22'\n",
    "})"
   ]
  },
  {
   "cell_type": "code",
   "execution_count": 4,
   "id": "99a847a8",
   "metadata": {},
   "outputs": [
    {
     "name": "stdout",
     "output_type": "stream",
     "text": [
      "{b'info:age': b'22', b'info:name': b'Charlie'}\n"
     ]
    }
   ],
   "source": [
    "row = table.row(b'1003')\n",
    "print(row)"
   ]
  },
  {
   "cell_type": "code",
   "execution_count": null,
   "id": "1231d9a9",
   "metadata": {},
   "outputs": [],
   "source": []
  }
 ],
 "metadata": {
  "kernelspec": {
   "display_name": "Python 3",
   "language": "python",
   "name": "python3"
  },
  "language_info": {
   "codemirror_mode": {
    "name": "ipython",
    "version": 3
   },
   "file_extension": ".py",
   "mimetype": "text/x-python",
   "name": "python",
   "nbconvert_exporter": "python",
   "pygments_lexer": "ipython3",
   "version": "3.12.6"
  }
 },
 "nbformat": 4,
 "nbformat_minor": 5
}
